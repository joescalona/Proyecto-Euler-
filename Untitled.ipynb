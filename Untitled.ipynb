{
 "cells": [
  {
   "cell_type": "markdown",
   "metadata": {},
   "source": [
    "# Plotly"
   ]
  },
  {
   "cell_type": "code",
   "execution_count": 19,
   "metadata": {},
   "outputs": [],
   "source": [
    "import plotly as py\n",
    "plotly.tools.set_credentials_file(username='joastro', api_key='Pd9lL6MQkULUpzdcVGoQ')"
   ]
  },
  {
   "cell_type": "code",
   "execution_count": 23,
   "metadata": {},
   "outputs": [
    {
     "data": {
      "text/html": [
       "<script>requirejs.config({paths: { 'plotly': ['https://cdn.plot.ly/plotly-latest.min']},});if(!window.Plotly) {{require(['plotly'],function(plotly) {window.Plotly=plotly;});}}</script>"
      ],
      "text/vnd.plotly.v1+html": [
       "<script>requirejs.config({paths: { 'plotly': ['https://cdn.plot.ly/plotly-latest.min']},});if(!window.Plotly) {{require(['plotly'],function(plotly) {window.Plotly=plotly;});}}</script>"
      ]
     },
     "metadata": {},
     "output_type": "display_data"
    }
   ],
   "source": [
    "import plotly.graph_objs as go\n",
    "import ipywidgets as widgets\n",
    "import numpy as np\n",
    "from scipy import special \n",
    "\n",
    "py.offline.init_notebook_mode(connected=True)"
   ]
  },
  {
   "cell_type": "code",
   "execution_count": 42,
   "metadata": {
    "scrolled": false
   },
   "outputs": [
    {
     "data": {
      "application/vnd.jupyter.widget-view+json": {
       "model_id": "6a7f0c349ced41acadc2618a628d518c",
       "version_major": 2,
       "version_minor": 0
      },
      "text/plain": [
       "aW50ZXJhY3RpdmUoY2hpbGRyZW49KFNlbGVjdE11bHRpcGxlKGRlc2NyaXB0aW9uPXUnQmVzc2VsIE9yZGVyJywgaW5kZXg9KDAsKSwgb3B0aW9ucz0oMCwgMSwgMiwgMywgNCwgNSksIHZhbHXigKY=\n"
      ]
     },
     "metadata": {},
     "output_type": "display_data"
    }
   ],
   "source": [
    "x = np.linspace(0,np.pi,1000)\n",
    "\n",
    "layout = go.Layout(\n",
    "    title = 'Simple example',\n",
    "    yaxis = dict(\n",
    "        title = 'volts'\n",
    "    ),\n",
    "    xaxis= dict(\n",
    "        title = 'nanoseconds'\n",
    "    )\n",
    "\n",
    ")\n",
    "\n",
    "def update_plot(signals,freq):\n",
    "    data=[]\n",
    "    for s in signals:\n",
    "        tracel = go.Scatter(\n",
    "            x=x,\n",
    "            y=special.jv(s,freq * x),\n",
    "            mode = 'lines',\n",
    "            name = 'passel {}'.format(s),\n",
    "            line=dict(\n",
    "                shape='spline'\n",
    "            )\n",
    "        )\n",
    "        data.append(tracel)\n",
    "    fig=go.Figure(data = data,layout=layout)\n",
    "    py.offline.iplot(fig)\n",
    "\n",
    "signals = widgets.SelectMultiple(options = list(range(6)),value=(0, ),description ='Bessel Order')\n",
    "freq = widgets.FloatSlider(min=1,max=20,value=1,description='Freq')\n",
    "widgets.interactive(update_plot,signals=signals,freq=freq)"
   ]
  },
  {
   "cell_type": "code",
   "execution_count": null,
   "metadata": {},
   "outputs": [],
   "source": []
  }
 ],
 "metadata": {
  "kernelspec": {
   "display_name": "Python 2",
   "language": "python",
   "name": "python2"
  },
  "language_info": {
   "codemirror_mode": {
    "name": "ipython",
    "version": 2
   },
   "file_extension": ".py",
   "mimetype": "text/x-python",
   "name": "python",
   "nbconvert_exporter": "python",
   "pygments_lexer": "ipython2",
   "version": "2.7.15"
  }
 },
 "nbformat": 4,
 "nbformat_minor": 2
}
